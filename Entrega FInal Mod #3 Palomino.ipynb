{
 "cells": [
  {
   "cell_type": "code",
   "execution_count": 1,
   "metadata": {},
   "outputs": [],
   "source": [
    "import re\n",
    "import os\n",
    "from requests_html import HTMLSession\n",
    "from collections import defaultdict\n",
    "from unidecode import unidecode\n",
    "from datetime import datetime\n",
    "import pandas as pd\n",
    "import matplotlib.pyplot as plt"
   ]
  },
  {
   "cell_type": "code",
   "execution_count": 3,
   "metadata": {},
   "outputs": [
    {
     "data": {
      "text/plain": [
       "'https://www.banxico.org.mx/publicaciones-y-prensa/anuncios-de-las-decisiones-de-politica-monetaria/anuncios-politica-monetaria-t.html'"
      ]
     },
     "execution_count": 3,
     "metadata": {},
     "output_type": "execute_result"
    }
   ],
   "source": [
    "url = \"https://www.banxico.org.mx/publicaciones-y-prensa/anuncios-de-las-decisiones-de-politica-monetaria/anuncios-politica-monetaria-t.html\"\n",
    "        \n",
    "url"
   ]
  },
  {
   "cell_type": "code",
   "execution_count": 4,
   "metadata": {},
   "outputs": [
    {
     "data": {
      "text/plain": [
       "<Response [200]>"
      ]
     },
     "execution_count": 4,
     "metadata": {},
     "output_type": "execute_result"
    }
   ],
   "source": [
    "with HTMLSession() as sess:\n",
    "    r = sess.get(url)\n",
    "r"
   ]
  },
  {
   "cell_type": "code",
   "execution_count": 9,
   "metadata": {},
   "outputs": [],
   "source": [
    "divpage = r.html.find(\"div[class='col-xs-12 col-md-12']\", first=True)\n",
    "comunica_fechas = divpage.find(\"td[class='bmdateview']\")\n",
    "comunica_texto = divpage.find(\"td[class='bmtextview']\")\n",
    "# comunica_texto"
   ]
  },
  {
   "cell_type": "code",
   "execution_count": 10,
   "metadata": {},
   "outputs": [],
   "source": [
    "values = []\n",
    "for fechas, textos in zip(comunica_fechas, comunica_texto):\n",
    "    fecha = fechas.find(\"span\", first=True).text\n",
    "    texto = textos.text\n",
    "    abstract_url = textos.find(\"a\", first=True).absolute_links\n",
    "    abstract_url, *_ = abstract_url\n",
    "    \n",
    "    values.append([datetime.strptime(fecha, '%d/%m/%y'), re.sub('\\n', ' ', texto), abstract_url, datetime.strptime(fecha, '%d/%m/%y').year])"
   ]
  },
  {
   "cell_type": "code",
   "execution_count": 12,
   "metadata": {},
   "outputs": [
    {
     "data": {
      "text/html": [
       "<div>\n",
       "<style scoped>\n",
       "    .dataframe tbody tr th:only-of-type {\n",
       "        vertical-align: middle;\n",
       "    }\n",
       "\n",
       "    .dataframe tbody tr th {\n",
       "        vertical-align: top;\n",
       "    }\n",
       "\n",
       "    .dataframe thead th {\n",
       "        text-align: right;\n",
       "    }\n",
       "</style>\n",
       "<table border=\"1\" class=\"dataframe\">\n",
       "  <thead>\n",
       "    <tr style=\"text-align: right;\">\n",
       "      <th></th>\n",
       "      <th>texto</th>\n",
       "      <th>url</th>\n",
       "      <th>año</th>\n",
       "      <th>categoria</th>\n",
       "    </tr>\n",
       "    <tr>\n",
       "      <th>fecha</th>\n",
       "      <th></th>\n",
       "      <th></th>\n",
       "      <th></th>\n",
       "      <th></th>\n",
       "    </tr>\n",
       "  </thead>\n",
       "  <tbody>\n",
       "    <tr>\n",
       "      <td>2008-02-15</td>\n",
       "      <td>El objetivo para la Tasa de Inter�s Interbanca...</td>\n",
       "      <td>https://www.banxico.org.mx/publicaciones-y-pre...</td>\n",
       "      <td>2008</td>\n",
       "      <td>mantiene</td>\n",
       "    </tr>\n",
       "    <tr>\n",
       "      <td>2008-03-14</td>\n",
       "      <td>El objetivo para la Tasa de Inter�s Interbanca...</td>\n",
       "      <td>https://www.banxico.org.mx/publicaciones-y-pre...</td>\n",
       "      <td>2008</td>\n",
       "      <td>mantiene</td>\n",
       "    </tr>\n",
       "    <tr>\n",
       "      <td>2008-04-18</td>\n",
       "      <td>El objetivo para la Tasa de Inter�s Interbanca...</td>\n",
       "      <td>https://www.banxico.org.mx/publicaciones-y-pre...</td>\n",
       "      <td>2008</td>\n",
       "      <td>mantiene</td>\n",
       "    </tr>\n",
       "    <tr>\n",
       "      <td>2008-05-16</td>\n",
       "      <td>El objetivo para la Tasa de Inter�s Interbanca...</td>\n",
       "      <td>https://www.banxico.org.mx/publicaciones-y-pre...</td>\n",
       "      <td>2008</td>\n",
       "      <td>mantiene</td>\n",
       "    </tr>\n",
       "    <tr>\n",
       "      <td>2008-06-20</td>\n",
       "      <td>El objetivo para la Tasa de Inter�s Interbanca...</td>\n",
       "      <td>https://www.banxico.org.mx/publicaciones-y-pre...</td>\n",
       "      <td>2008</td>\n",
       "      <td>incrementa</td>\n",
       "    </tr>\n",
       "  </tbody>\n",
       "</table>\n",
       "</div>"
      ],
      "text/plain": [
       "                                                        texto  \\\n",
       "fecha                                                           \n",
       "2008-02-15  El objetivo para la Tasa de Inter�s Interbanca...   \n",
       "2008-03-14  El objetivo para la Tasa de Inter�s Interbanca...   \n",
       "2008-04-18  El objetivo para la Tasa de Inter�s Interbanca...   \n",
       "2008-05-16  El objetivo para la Tasa de Inter�s Interbanca...   \n",
       "2008-06-20  El objetivo para la Tasa de Inter�s Interbanca...   \n",
       "\n",
       "                                                          url   año  \\\n",
       "fecha                                                                 \n",
       "2008-02-15  https://www.banxico.org.mx/publicaciones-y-pre...  2008   \n",
       "2008-03-14  https://www.banxico.org.mx/publicaciones-y-pre...  2008   \n",
       "2008-04-18  https://www.banxico.org.mx/publicaciones-y-pre...  2008   \n",
       "2008-05-16  https://www.banxico.org.mx/publicaciones-y-pre...  2008   \n",
       "2008-06-20  https://www.banxico.org.mx/publicaciones-y-pre...  2008   \n",
       "\n",
       "             categoria  \n",
       "fecha                   \n",
       "2008-02-15    mantiene  \n",
       "2008-03-14    mantiene  \n",
       "2008-04-18    mantiene  \n",
       "2008-05-16    mantiene  \n",
       "2008-06-20  incrementa  "
      ]
     },
     "execution_count": 12,
     "metadata": {},
     "output_type": "execute_result"
    }
   ],
   "source": [
    "df_values = pd.DataFrame(values, columns=[\"fecha\", \"texto\", \"url\", \"año\"])\n",
    "df_values = df_values[df_values[\"fecha\"] >= '2008-02-15']\n",
    "df_values = df_values.set_index(\"fecha\")\n",
    "df_values = df_values.sort_values(\"fecha\", ascending=True)\n",
    "df_values = df_values.join(df_values[\"texto\"].str.extract(pat = '(incrementa|disminuye|mantiene)'), how='left').rename(columns={0: 'categoria'})\n",
    "df_values.head()"
   ]
  },
  {
   "cell_type": "code",
   "execution_count": 22,
   "metadata": {},
   "outputs": [],
   "source": [
    "#se guarda el dataFrame obtenido en un archivo .pkl\n",
    "df_values.to_pickle(\"C:/Users/Palomino/Desktop/comunicadosbanxico.pkl\")"
   ]
  },
  {
   "cell_type": "code",
   "execution_count": 29,
   "metadata": {},
   "outputs": [
    {
     "data": {
      "text/plain": [
       "mantiene      72\n",
       "incrementa    18\n",
       "disminuye     16\n",
       "Name: categoria, dtype: int64"
      ]
     },
     "execution_count": 29,
     "metadata": {},
     "output_type": "execute_result"
    }
   ],
   "source": [
    "#se cuentan las repeticiones de la columna category\n",
    "cont=df_values.categoria.value_counts()\n",
    "cont"
   ]
  },
  {
   "cell_type": "code",
   "execution_count": 31,
   "metadata": {},
   "outputs": [
    {
     "name": "stderr",
     "output_type": "stream",
     "text": [
      "C:\\Users\\Palomino\\Anaconda3\\lib\\site-packages\\pandas\\plotting\\_matplotlib\\converter.py:103: FutureWarning: Using an implicitly registered datetime converter for a matplotlib plotting method. The converter was registered by pandas on import. Future versions of pandas will require you to explicitly register matplotlib converters.\n",
      "\n",
      "To register the converters:\n",
      "\t>>> from pandas.plotting import register_matplotlib_converters\n",
      "\t>>> register_matplotlib_converters()\n",
      "  warnings.warn(msg, FutureWarning)\n"
     ]
    },
    {
     "data": {
      "image/png": "[encoded data removed]",
      "text/plain": [
       "<Figure size 1152x288 with 2 Axes>"
      ]
     },
     "metadata": {
      "needs_background": "light"
     },
     "output_type": "display_data"
    }
   ],
   "source": [
    "#se reenombran\n",
    "valor_c = {'mantiene' : 0 , 'incrementa' : 1, 'disminuye' : -1}\n",
    "graf=df_values.categoria.map(valor_c)\n",
    "\n",
    "#se generan las dos graficas\n",
    "fig, axes= plt.subplots(ncols=2, figsize=(16,4))\n",
    "plt.setp(axes[0], yticks=([1, 0, -1]))\n",
    "axes[0].grid()\n",
    "axes[0].plot(graf.index,graf, '+')\n",
    "df_values.categoria.value_counts().plot(kind='bar',ax=axes[1])\n",
    "fig.tight_layout()"
   ]
  },
  {
   "cell_type": "code",
   "execution_count": 32,
   "metadata": {},
   "outputs": [
    {
     "data": {
      "text/plain": [
       "fecha  categoria \n",
       "2008   mantiene       7\n",
       "       incrementa     3\n",
       "2009   disminuye      7\n",
       "       mantiene       4\n",
       "2010   mantiene      11\n",
       "Name: categoria, dtype: int64"
      ]
     },
     "execution_count": 32,
     "metadata": {},
     "output_type": "execute_result"
    }
   ],
   "source": [
    "comunicado=df_values.categoria.groupby(df_values.index.year).value_counts()\n",
    "comunicado.head()"
   ]
  },
  {
   "cell_type": "code",
   "execution_count": 33,
   "metadata": {},
   "outputs": [
    {
     "data": {
      "text/plain": [
       "<matplotlib.axes._subplots.AxesSubplot at 0x2a8baa733c8>"
      ]
     },
     "execution_count": 33,
     "metadata": {},
     "output_type": "execute_result"
    },
    {
     "data": {
      "image/png": "[encoded data removed]",
      "text/plain": [
       "<Figure size 432x288 with 1 Axes>"
      ]
     },
     "metadata": {
      "needs_background": "light"
     },
     "output_type": "display_data"
    }
   ],
   "source": [
    "comunicado.unstack(level=1).plot.bar(stacked=True)"
   ]
  },
  {
   "cell_type": "code",
   "execution_count": 66,
   "metadata": {},
   "outputs": [
    {
     "name": "stderr",
     "output_type": "stream",
     "text": [
      "[nltk_data] Downloading package punkt to\n",
      "[nltk_data]     C:\\Users\\Palomino\\AppData\\Roaming\\nltk_data...\n",
      "[nltk_data]   Package punkt is already up-to-date!\n",
      "[nltk_data] Downloading package stopwords to\n",
      "[nltk_data]     C:\\Users\\Palomino\\AppData\\Roaming\\nltk_data...\n",
      "[nltk_data]   Package stopwords is already up-to-date!\n"
     ]
    }
   ],
   "source": [
    "import nltk\n",
    "from nltk import corpus\n",
    "nltk.download('punkt')\n",
    "nltk.download('stopwords')\n",
    "from collections import defaultdict, Counter\n",
    "from tqdm.notebook import tqdm\n",
    "import PyPDF2\n",
    "from sklearn.model_selection import train_test_split\n",
    "import requests\n",
    "import numpy as np"
   ]
  },
  {
   "cell_type": "code",
   "execution_count": 39,
   "metadata": {},
   "outputs": [],
   "source": [
    "# descarga papers \n",
    "for i in range(len(df_values)):\n",
    "    url = df_values['url'][i]\n",
    "    r = requests.get(url)\n",
    "    \n",
    "    paper = r.content\n",
    "\n",
    "    # recomendable primero crear una carpeta si no existe donde guardaré mis pdfs\n",
    "    if not os.path.exists(\"pdfs\"):  \n",
    "        os.mkdir(\"pdfs\")\n",
    "    \n",
    "    full_path = os.path.join(\"pdfs\", f\"paper{i}.pdf\")\n",
    "    \n",
    "    # escribe cada pdf en mi carpeta\n",
    "    with open(full_path,\"wb\") as f: # wb write binary\n",
    "        f.write(paper)"
   ]
  },
  {
   "cell_type": "code",
   "execution_count": 44,
   "metadata": {},
   "outputs": [],
   "source": [
    "# lee papers y los guarda en un diccionario con disminuye, mantiene e incrementa como llaves\n",
    "\n",
    "d = defaultdict(list)\n",
    "\n",
    "for i in range(len(df_values)):\n",
    "    \n",
    "    full_path = os.path.join(\"pdfs\", f\"paper{i}.pdf\")\n",
    "    \n",
    "    pdf_f = open(full_path, 'rb')\n",
    "    read_pdf = PyPDF2.PdfFileReader(pdf_f)\n",
    "    num_of_pages = read_pdf.getNumPages()\n",
    "    c = Counter(range(num_of_pages))\n",
    "\n",
    "    text_paper_i = ''\n",
    "    for j in c:\n",
    "       page = read_pdf.getPage(j)\n",
    "       page_content = page.extractText()\n",
    "       text_paper_i = text_paper_i + page_content # leemos el pdf completo y lo guardamos en text_paper_i\n",
    "            \n",
    "    d[df_values['categoria'][i]].append(text_paper_i)"
   ]
  },
  {
   "cell_type": "code",
   "execution_count": 45,
   "metadata": {},
   "outputs": [],
   "source": [
    "k1, k2, k3 = 'mantiene', 'incrementa', 'disminuye'"
   ]
  },
  {
   "cell_type": "code",
   "execution_count": 46,
   "metadata": {},
   "outputs": [],
   "source": [
    "def limpia_dialogo(texto):\n",
    "    limpio = texto.lower()\n",
    "    limpio = re.sub(\"[^\\w ]\", \"\", limpio) # quita lo que no sea alfanumerico o espacio \n",
    "    return limpio"
   ]
  },
  {
   "cell_type": "code",
   "execution_count": 47,
   "metadata": {},
   "outputs": [],
   "source": [
    "D1 = [limpia_dialogo(doc) for doc in d[k1]]\n",
    "D2 = [limpia_dialogo(doc) for doc in d[k2]]\n",
    "D3 = [limpia_dialogo(doc) for doc in d[k3]]\n",
    "\n",
    "# Partimos los datos en train y un test group\n",
    "\n",
    "D1, D1_test = train_test_split(D1,test_size = 0.2)\n",
    "D2, D2_test = train_test_split(D2,test_size = 0.2)\n",
    "D3, D3_test = train_test_split(D3,test_size = 0.2)"
   ]
  },
  {
   "cell_type": "code",
   "execution_count": 48,
   "metadata": {},
   "outputs": [
    {
     "data": {
      "text/plain": [
       "83"
      ]
     },
     "execution_count": 48,
     "metadata": {},
     "output_type": "execute_result"
    }
   ],
   "source": [
    "N1 = len(D1)\n",
    "N2 = len(D2)\n",
    "N3 = len(D3)\n",
    "N = N1 + N2 + N3\n",
    "N"
   ]
  },
  {
   "cell_type": "code",
   "execution_count": 58,
   "metadata": {},
   "outputs": [
    {
     "data": {
      "text/plain": [
       "322"
      ]
     },
     "execution_count": 58,
     "metadata": {},
     "output_type": "execute_result"
    }
   ],
   "source": [
    "# Quitamos palabras inútiles \n",
    "stopwords = corpus.stopwords.words(\"spanish\")\n",
    "aditional_stopwords = ['mantener','disminuir','incrementar', 'mantengan','disminuyan','incrementen','además','general','vez']\n",
    "stopwords = stopwords + aditional_stopwords\n",
    "len(stopwords)"
   ]
  },
  {
   "cell_type": "code",
   "execution_count": 59,
   "metadata": {},
   "outputs": [],
   "source": [
    "V1 = [palabra for dialogo in D1 for palabra in dialogo.split() if palabra not in stopwords]\n",
    "V2 = [palabra for dialogo in D2 for palabra in dialogo.split() if palabra not in stopwords]\n",
    "V3 = [palabra for dialogo in D3 for palabra in dialogo.split() if palabra not in stopwords]"
   ]
  },
  {
   "cell_type": "code",
   "execution_count": 60,
   "metadata": {},
   "outputs": [],
   "source": [
    "V1_count = pd.Series(V1, name='k1').value_counts()\n",
    "V2_count = pd.Series(V2, name = 'k2').value_counts()\n",
    "V3_count = pd.Series(V3, name = 'k3').value_counts()"
   ]
  },
  {
   "cell_type": "code",
   "execution_count": 61,
   "metadata": {},
   "outputs": [
    {
     "data": {
      "text/plain": [
       "(3171, 0)"
      ]
     },
     "execution_count": 61,
     "metadata": {},
     "output_type": "execute_result"
    }
   ],
   "source": [
    "V = set(V1) | set(V2) | set(V3)\n",
    "vocab = pd.DataFrame(index=V)\n",
    "vocab.shape"
   ]
  },
  {
   "cell_type": "code",
   "execution_count": 64,
   "metadata": {},
   "outputs": [
    {
     "data": {
      "text/html": [
       "<div>\n",
       "<style scoped>\n",
       "    .dataframe tbody tr th:only-of-type {\n",
       "        vertical-align: middle;\n",
       "    }\n",
       "\n",
       "    .dataframe tbody tr th {\n",
       "        vertical-align: top;\n",
       "    }\n",
       "\n",
       "    .dataframe thead th {\n",
       "        text-align: right;\n",
       "    }\n",
       "</style>\n",
       "<table border=\"1\" class=\"dataframe\">\n",
       "  <thead>\n",
       "    <tr style=\"text-align: right;\">\n",
       "      <th></th>\n",
       "      <th>k1</th>\n",
       "      <th>k2</th>\n",
       "      <th>k3</th>\n",
       "    </tr>\n",
       "  </thead>\n",
       "  <tbody>\n",
       "    <tr>\n",
       "      <td>repuntó</td>\n",
       "      <td>0.000099</td>\n",
       "      <td>0.000241</td>\n",
       "      <td>0.000117</td>\n",
       "    </tr>\n",
       "    <tr>\n",
       "      <td>desempeño</td>\n",
       "      <td>0.001381</td>\n",
       "      <td>0.001043</td>\n",
       "      <td>0.001865</td>\n",
       "    </tr>\n",
       "    <tr>\n",
       "      <td>variación</td>\n",
       "      <td>0.000526</td>\n",
       "      <td>0.000481</td>\n",
       "      <td>0.000466</td>\n",
       "    </tr>\n",
       "    <tr>\n",
       "      <td>solucionar</td>\n",
       "      <td>0.000066</td>\n",
       "      <td>0.000080</td>\n",
       "      <td>0.000117</td>\n",
       "    </tr>\n",
       "    <tr>\n",
       "      <td>reduzca</td>\n",
       "      <td>0.000099</td>\n",
       "      <td>0.000080</td>\n",
       "      <td>0.000350</td>\n",
       "    </tr>\n",
       "    <tr>\n",
       "      <td>acerca</td>\n",
       "      <td>0.000954</td>\n",
       "      <td>0.000241</td>\n",
       "      <td>0.000117</td>\n",
       "    </tr>\n",
       "    <tr>\n",
       "      <td>avances</td>\n",
       "      <td>0.000066</td>\n",
       "      <td>0.000080</td>\n",
       "      <td>0.000466</td>\n",
       "    </tr>\n",
       "    <tr>\n",
       "      <td>referencia</td>\n",
       "      <td>0.000822</td>\n",
       "      <td>0.000802</td>\n",
       "      <td>0.000933</td>\n",
       "    </tr>\n",
       "    <tr>\n",
       "      <td>combatir</td>\n",
       "      <td>0.000099</td>\n",
       "      <td>0.000080</td>\n",
       "      <td>0.000583</td>\n",
       "    </tr>\n",
       "    <tr>\n",
       "      <td>mejor</td>\n",
       "      <td>0.000691</td>\n",
       "      <td>0.000160</td>\n",
       "      <td>0.000699</td>\n",
       "    </tr>\n",
       "  </tbody>\n",
       "</table>\n",
       "</div>"
      ],
      "text/plain": [
       "                  k1        k2        k3\n",
       "repuntó     0.000099  0.000241  0.000117\n",
       "desempeño   0.001381  0.001043  0.001865\n",
       "variación   0.000526  0.000481  0.000466\n",
       "solucionar  0.000066  0.000080  0.000117\n",
       "reduzca     0.000099  0.000080  0.000350\n",
       "acerca      0.000954  0.000241  0.000117\n",
       "avances     0.000066  0.000080  0.000466\n",
       "referencia  0.000822  0.000802  0.000933\n",
       "combatir    0.000099  0.000080  0.000583\n",
       "mejor       0.000691  0.000160  0.000699"
      ]
     },
     "execution_count": 64,
     "metadata": {},
     "output_type": "execute_result"
    }
   ],
   "source": [
    "# Verosimilitud\n",
    "L = (vocab.join(V1_count, how = \"left\")\n",
    "    .join(V2_count, how = \"left\")\n",
    "    .join(V3_count, how = \"left\"))\n",
    "\n",
    "L = L.fillna(0) + 1 #numerador \n",
    "L = L / L.sum(axis=0) # L.sum(axis=0)  suma el total por clase \n",
    "\n",
    "L.sort_values(\"k1\",ascending = False)\n",
    "L.sample(10)"
   ]
  },
  {
   "cell_type": "code",
   "execution_count": 67,
   "metadata": {},
   "outputs": [],
   "source": [
    "log_L = np.log(L)\n",
    "\n",
    "log_prior_k1 = np.log(N1/N)\n",
    "log_prior_k2 = np.log(N2/N)\n",
    "log_prior_k3 = np.log(N3/N)\n",
    "\n",
    "log_priors = np.array([log_prior_k1,log_prior_k2,log_prior_k3])\n"
   ]
  },
  {
   "cell_type": "code",
   "execution_count": null,
   "metadata": {},
   "outputs": [],
   "source": []
  },
  {
   "cell_type": "code",
   "execution_count": 68,
   "metadata": {},
   "outputs": [
    {
     "data": {
      "text/plain": [
       "k1   -1482.219354\n",
       "k2   -1518.819230\n",
       "k3   -1500.074048\n",
       "dtype: float64"
      ]
     },
     "execution_count": 68,
     "metadata": {},
     "output_type": "execute_result"
    }
   ],
   "source": [
    "len(D1_test)\n",
    "d_test = D1_test[0]\n",
    "f = set([palabra for palabra in d_test.split() if palabra in V])\n",
    "res = log_L.loc[f].sum(axis=0) + log_priors\n",
    "res"
   ]
  },
  {
   "cell_type": "code",
   "execution_count": 72,
   "metadata": {},
   "outputs": [
    {
     "name": "stdout",
     "output_type": "stream",
     "text": [
      "23\n"
     ]
    }
   ],
   "source": [
    "D_test = D1_test + D2_test + D3_test\n",
    "print(len(D_test))\n",
    "t_test = [\"k1\"]*len(D1_test) + [\"k2\"]*len(D2_test) + [\"k3\"]*len(D3_test)"
   ]
  },
  {
   "cell_type": "code",
   "execution_count": 73,
   "metadata": {},
   "outputs": [
    {
     "name": "stdout",
     "output_type": "stream",
     "text": [
      "['k1', 'k1', 'k1', 'k1', 'k1', 'k1', 'k1', 'k1', 'k1', 'k1', 'k1', 'k1', 'k1', 'k1', 'k1', 'k2', 'k2', 'k2', 'k2', 'k3', 'k3', 'k3', 'k3']\n",
      "['k1', 'k1', 'k1', 'k2', 'k1', 'k1', 'k1', 'k1', 'k1', 'k1', 'k1', 'k1', 'k2', 'k1', 'k2', 'k2', 'k1', 'k2', 'k2', 'k1', 'k1', 'k3', 'k1']\n"
     ]
    }
   ],
   "source": [
    "tt_test = [] \n",
    "for d_test in D_test:\n",
    "    f = set([palabra for palabra in d_test.split() if palabra in V])\n",
    "    res = log_L.loc[f].sum(axis=0) + log_priors\n",
    "    tt_test.append(res.idxmax())\n",
    "\n",
    "print(t_test)\n",
    "print(tt_test)"
   ]
  },
  {
   "cell_type": "code",
   "execution_count": 75,
   "metadata": {},
   "outputs": [
    {
     "data": {
      "text/plain": [
       "array([[12,  3,  0],\n",
       "       [ 1,  3,  0],\n",
       "       [ 3,  0,  1]], dtype=int64)"
      ]
     },
     "execution_count": 75,
     "metadata": {},
     "output_type": "execute_result"
    }
   ],
   "source": [
    "# Matriz de confusion\n",
    "from  sklearn.metrics import confusion_matrix\n",
    "confusion_matrix(t_test,tt_test)"
   ]
  }
 ],
 "metadata": {
  "kernelspec": {
   "display_name": "Python 3",
   "language": "python",
   "name": "python3"
  },
  "language_info": {
   "codemirror_mode": {
    "name": "ipython",
    "version": 3
   },
   "file_extension": ".py",
   "mimetype": "text/x-python",
   "name": "python",
   "nbconvert_exporter": "python",
   "pygments_lexer": "ipython3",
   "version": "3.7.4"
  }
 },
 "nbformat": 4,
 "nbformat_minor": 2
}
